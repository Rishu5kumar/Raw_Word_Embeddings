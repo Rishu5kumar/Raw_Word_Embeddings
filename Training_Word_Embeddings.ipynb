{
  "cells": [
    {
      "cell_type": "markdown",
      "metadata": {
        "id": "view-in-github",
        "colab_type": "text"
      },
      "source": [
        "<a href=\"https://colab.research.google.com/github/Rishu5kumar/Raw_Word_Embeddings/blob/main/Training_Word_Embeddings.ipynb\" target=\"_parent\"><img src=\"https://colab.research.google.com/assets/colab-badge.svg\" alt=\"Open In Colab\"/></a>"
      ]
    },
    {
      "cell_type": "markdown",
      "metadata": {
        "id": "toVNZSUP1r8U"
      },
      "source": [
        "**Word embeddings** are essential for representing words in a numerical format that an RNN can process. The idea is to convert words into dense vectors that capture their meaning and relationships.\n",
        "\n",
        " Word2Vec is a popular technique for word embedding. It transforms words into numerical vectors, capturing their meanings in a continuous vector space. These vectors are positioned such that words with similar meanings are close to each other in the vector space. Word2Vec was developed by Tomas Mikolov and his team at Google."
      ]
    },
    {
      "cell_type": "markdown",
      "metadata": {
        "id": "jbgq-2y-4hbB"
      },
      "source": [
        "Here no built-in library used except neural network.\n",
        "\n",
        "**We can use gensim library to get word emebeddinds directly.**"
      ]
    },
    {
      "cell_type": "markdown",
      "source": [
        "Steps to create Word2vec:\n",
        "\n",
        "1. Tokenize the sentences.\n",
        "2. Create histograms.\n",
        "3. Take most frequent words.\n",
        "4. Create the matrix with all the unique words. It also represent the occurence relation between the words."
      ],
      "metadata": {
        "id": "0WmjdfirWpe-"
      }
    },
    {
      "cell_type": "markdown",
      "metadata": {
        "id": "u3QqdYrd2i-Y"
      },
      "source": [
        "### Loading Data"
      ]
    },
    {
      "cell_type": "code",
      "execution_count": null,
      "metadata": {
        "colab": {
          "base_uri": "https://localhost:8080/"
        },
        "id": "8q3ojg-X1Xxo",
        "outputId": "846a21b3-7360-40f9-90b5-00dee8ace911"
      },
      "outputs": [
        {
          "output_type": "stream",
          "name": "stdout",
          "text": [
            "['The future king is the prince\\n', 'Daughter is the princess\\n', 'Son is the prince\\n', 'Only a man can be a king\\n', 'Only a woman can be a queen\\n', 'The princess will be a queen\\n', 'The prince is a strong man\\n', 'The princess is a beautiful woman\\n', 'Prince is only a boy now\\n', 'Prince will be king\\n', 'A boy will be a man\\n']\n"
          ]
        }
      ],
      "source": [
        "file = open('Royal_data.txt', 'r')\n",
        "royal_data = file.readlines()\n",
        "print(royal_data)\n",
        "file.close()"
      ]
    },
    {
      "cell_type": "markdown",
      "metadata": {
        "id": "Shwsqger2mHs"
      },
      "source": [
        "### Removing '\\n' from the end of every sentence and convert the sentence into lowercase\n"
      ]
    },
    {
      "cell_type": "code",
      "execution_count": null,
      "metadata": {
        "colab": {
          "base_uri": "https://localhost:8080/"
        },
        "id": "e4xIDF9w2NQi",
        "outputId": "66bfa5f8-1f31-47a4-8703-4b95ced55c82"
      },
      "outputs": [
        {
          "output_type": "stream",
          "name": "stdout",
          "text": [
            "['the future king is the prince', 'daughter is the princess', 'son is the prince', 'only a man can be a king', 'only a woman can be a queen', 'the princess will be a queen', 'the prince is a strong man', 'the princess is a beautiful woman', 'prince is only a boy now', 'prince will be king', 'a boy will be a man']\n"
          ]
        }
      ],
      "source": [
        "for i in range(len(royal_data)):\n",
        "    royal_data[i] = royal_data[i].lower().replace('\\n', '')\n",
        "\n",
        "print(royal_data)"
      ]
    },
    {
      "cell_type": "markdown",
      "metadata": {
        "id": "RSftGfYC2sGR"
      },
      "source": [
        "### Removing stop words and tokenize"
      ]
    },
    {
      "cell_type": "code",
      "execution_count": null,
      "metadata": {
        "colab": {
          "base_uri": "https://localhost:8080/"
        },
        "id": "0h98lWZz2PYu",
        "outputId": "58ec5e4d-540d-4107-9356-dff94ddff58f"
      },
      "outputs": [
        {
          "output_type": "stream",
          "name": "stdout",
          "text": [
            "[['future', 'king', 'prince'], ['daughter', 'princess'], ['son', 'prince'], ['man', 'king'], ['woman', 'queen'], ['princess', 'queen'], ['prince', 'strong', 'man'], ['princess', 'beautiful', 'woman'], ['prince', 'boy'], ['prince', 'king'], ['boy', 'man']]\n"
          ]
        }
      ],
      "source": [
        "stopwords = ['the', 'is', 'will', 'be', 'a', 'only', 'can', 'their', 'now', 'and', 'at', 'it']\n",
        "\n",
        "filtered_data = [] # it will store tokenized sentences after removing stopwords\n",
        "for sent in royal_data:\n",
        "    temp = []\n",
        "    for word in sent.split():\n",
        "        if word not in stopwords:\n",
        "            temp.append(word)\n",
        "    filtered_data.append(temp)\n",
        "\n",
        "print(filtered_data)"
      ]
    },
    {
      "cell_type": "markdown",
      "metadata": {
        "id": "2Q6g1j5A20pC"
      },
      "source": [
        "### Creating bigrams"
      ]
    },
    {
      "cell_type": "code",
      "execution_count": null,
      "metadata": {
        "colab": {
          "base_uri": "https://localhost:8080/"
        },
        "id": "2a04oMyj2RaP",
        "outputId": "6e93f790-557f-484d-e529-2ee0aa84bea9"
      },
      "outputs": [
        {
          "output_type": "stream",
          "name": "stdout",
          "text": [
            "[['future', 'king'], ['king', 'future'], ['future', 'prince'], ['prince', 'future'], ['king', 'prince'], ['prince', 'king'], ['daughter', 'princess'], ['princess', 'daughter'], ['son', 'prince'], ['prince', 'son'], ['man', 'king'], ['king', 'man'], ['woman', 'queen'], ['queen', 'woman'], ['princess', 'queen'], ['queen', 'princess'], ['prince', 'strong'], ['strong', 'prince'], ['prince', 'man'], ['man', 'prince'], ['strong', 'man'], ['man', 'strong'], ['princess', 'beautiful'], ['beautiful', 'princess'], ['princess', 'woman'], ['woman', 'princess'], ['beautiful', 'woman'], ['woman', 'beautiful'], ['prince', 'boy'], ['boy', 'prince'], ['prince', 'king'], ['king', 'prince'], ['boy', 'man'], ['man', 'boy']]\n"
          ]
        }
      ],
      "source": [
        "bigrams = []\n",
        "for words_list in filtered_data:\n",
        "    for i in range(len(words_list) - 1):\n",
        "        for j in range(i+1, len(words_list)):\n",
        "            bigrams.append([words_list[i], words_list[j]])\n",
        "            bigrams.append([words_list[j], words_list[i]])\n",
        "\n",
        "\n",
        "print(bigrams)"
      ]
    },
    {
      "cell_type": "markdown",
      "metadata": {
        "id": "zLfpszt423ON"
      },
      "source": [
        "### Getting a list of unique words"
      ]
    },
    {
      "cell_type": "code",
      "execution_count": null,
      "metadata": {
        "colab": {
          "base_uri": "https://localhost:8080/"
        },
        "id": "VUfZml_v2TeK",
        "outputId": "85bd0daf-df57-488b-8aaa-e1f4025e5447"
      },
      "outputs": [
        {
          "output_type": "stream",
          "name": "stdout",
          "text": [
            "['beautiful', 'boy', 'daughter', 'future', 'king', 'man', 'prince', 'princess', 'queen', 'son', 'strong', 'woman']\n",
            "Total number of unique words are: 12\n"
          ]
        }
      ],
      "source": [
        "all_words = [] # here all the unique words will be present\n",
        "\n",
        "# for bi in bigrams:\n",
        "#     all_words.extend(bi)\n",
        "\n",
        "for sent in filtered_data:\n",
        "  all_words.extend(sent)\n",
        "# The extend() function iterates over the elements of the given iterable and adds them one by one to the end of the list.\n",
        "\n",
        "all_words = list(set(all_words))\n",
        "all_words.sort()\n",
        "\n",
        "print(all_words)\n",
        "print(\"Total number of unique words are:\", len(all_words))"
      ]
    },
    {
      "cell_type": "markdown",
      "metadata": {
        "id": "U1cDTHS7252u"
      },
      "source": [
        "### Creating dictionary of words"
      ]
    },
    {
      "cell_type": "code",
      "execution_count": null,
      "metadata": {
        "colab": {
          "base_uri": "https://localhost:8080/"
        },
        "id": "Z-iV8lq82VOM",
        "outputId": "f09d8739-2911-427f-8875-7a84781263cf"
      },
      "outputs": [
        {
          "output_type": "stream",
          "name": "stdout",
          "text": [
            "{'beautiful': 0, 'boy': 1, 'daughter': 2, 'future': 3, 'king': 4, 'man': 5, 'prince': 6, 'princess': 7, 'queen': 8, 'son': 9, 'strong': 10, 'woman': 11}\n"
          ]
        }
      ],
      "source": [
        "words_dict = {}\n",
        "\n",
        "counter = 0\n",
        "for word in all_words:\n",
        "    words_dict[word] = counter\n",
        "    counter += 1\n",
        "\n",
        "print(words_dict)"
      ]
    },
    {
      "cell_type": "markdown",
      "metadata": {
        "id": "8Q2QNcqV28Q0"
      },
      "source": [
        "### Performing one-hot encoding"
      ]
    },
    {
      "cell_type": "code",
      "execution_count": null,
      "metadata": {
        "colab": {
          "base_uri": "https://localhost:8080/"
        },
        "id": "cyA3eAPh2XKP",
        "outputId": "b6365cae-eca9-495f-d39e-51a246f9523c"
      },
      "outputs": [
        {
          "output_type": "stream",
          "name": "stdout",
          "text": [
            "beautiful : [1. 0. 0. 0. 0. 0. 0. 0. 0. 0. 0. 0.]\n",
            "boy : [0. 1. 0. 0. 0. 0. 0. 0. 0. 0. 0. 0.]\n",
            "daughter : [0. 0. 1. 0. 0. 0. 0. 0. 0. 0. 0. 0.]\n",
            "future : [0. 0. 0. 1. 0. 0. 0. 0. 0. 0. 0. 0.]\n",
            "king : [0. 0. 0. 0. 1. 0. 0. 0. 0. 0. 0. 0.]\n",
            "man : [0. 0. 0. 0. 0. 1. 0. 0. 0. 0. 0. 0.]\n",
            "prince : [0. 0. 0. 0. 0. 0. 1. 0. 0. 0. 0. 0.]\n",
            "princess : [0. 0. 0. 0. 0. 0. 0. 1. 0. 0. 0. 0.]\n",
            "queen : [0. 0. 0. 0. 0. 0. 0. 0. 1. 0. 0. 0.]\n",
            "son : [0. 0. 0. 0. 0. 0. 0. 0. 0. 1. 0. 0.]\n",
            "strong : [0. 0. 0. 0. 0. 0. 0. 0. 0. 0. 1. 0.]\n",
            "woman : [0. 0. 0. 0. 0. 0. 0. 0. 0. 0. 0. 1.]\n"
          ]
        }
      ],
      "source": [
        "import numpy as np\n",
        "\n",
        "onehot_data = np.zeros((len(all_words), len(all_words))) # it will create a matrix of 12*12\n",
        "\n",
        "for i in range(len(all_words)):\n",
        "    onehot_data[i][i] = 1\n",
        "\n",
        "onehot_dict = {}\n",
        "for i in range(len(all_words)):\n",
        "    onehot_dict[all_words[i]] = onehot_data[i]\n",
        "\n",
        "for word in onehot_dict:\n",
        "    print(word, \":\", onehot_dict[word])"
      ]
    },
    {
      "cell_type": "code",
      "execution_count": null,
      "metadata": {
        "id": "ip6-CruU2ZI0"
      },
      "outputs": [],
      "source": [
        "X = []\n",
        "Y = []\n",
        "\n",
        "for bi in bigrams:\n",
        "    X.append(onehot_dict[bi[0]])\n",
        "    Y.append(onehot_dict[bi[1]])\n",
        "\n",
        "X = np.array(X)\n",
        "Y = np.array(Y)"
      ]
    },
    {
      "cell_type": "code",
      "execution_count": null,
      "metadata": {
        "colab": {
          "base_uri": "https://localhost:8080/"
        },
        "id": "ui_ZY9AiC8E5",
        "outputId": "22a174b2-6900-4679-d8da-cf86fbd74fb5"
      },
      "outputs": [
        {
          "output_type": "stream",
          "name": "stdout",
          "text": [
            "[[0. 0. 0. 1. 0. 0. 0. 0. 0. 0. 0. 0.]\n",
            " [0. 0. 0. 0. 1. 0. 0. 0. 0. 0. 0. 0.]\n",
            " [0. 0. 0. 1. 0. 0. 0. 0. 0. 0. 0. 0.]\n",
            " [0. 0. 0. 0. 0. 0. 1. 0. 0. 0. 0. 0.]\n",
            " [0. 0. 0. 0. 1. 0. 0. 0. 0. 0. 0. 0.]\n",
            " [0. 0. 0. 0. 0. 0. 1. 0. 0. 0. 0. 0.]\n",
            " [0. 0. 1. 0. 0. 0. 0. 0. 0. 0. 0. 0.]\n",
            " [0. 0. 0. 0. 0. 0. 0. 1. 0. 0. 0. 0.]\n",
            " [0. 0. 0. 0. 0. 0. 0. 0. 0. 1. 0. 0.]\n",
            " [0. 0. 0. 0. 0. 0. 1. 0. 0. 0. 0. 0.]\n",
            " [0. 0. 0. 0. 0. 1. 0. 0. 0. 0. 0. 0.]\n",
            " [0. 0. 0. 0. 1. 0. 0. 0. 0. 0. 0. 0.]\n",
            " [0. 0. 0. 0. 0. 0. 0. 0. 0. 0. 0. 1.]\n",
            " [0. 0. 0. 0. 0. 0. 0. 0. 1. 0. 0. 0.]\n",
            " [0. 0. 0. 0. 0. 0. 0. 1. 0. 0. 0. 0.]\n",
            " [0. 0. 0. 0. 0. 0. 0. 0. 1. 0. 0. 0.]\n",
            " [0. 0. 0. 0. 0. 0. 1. 0. 0. 0. 0. 0.]\n",
            " [0. 0. 0. 0. 0. 0. 0. 0. 0. 0. 1. 0.]\n",
            " [0. 0. 0. 0. 0. 0. 1. 0. 0. 0. 0. 0.]\n",
            " [0. 0. 0. 0. 0. 1. 0. 0. 0. 0. 0. 0.]\n",
            " [0. 0. 0. 0. 0. 0. 0. 0. 0. 0. 1. 0.]\n",
            " [0. 0. 0. 0. 0. 1. 0. 0. 0. 0. 0. 0.]\n",
            " [0. 0. 0. 0. 0. 0. 0. 1. 0. 0. 0. 0.]\n",
            " [1. 0. 0. 0. 0. 0. 0. 0. 0. 0. 0. 0.]\n",
            " [0. 0. 0. 0. 0. 0. 0. 1. 0. 0. 0. 0.]\n",
            " [0. 0. 0. 0. 0. 0. 0. 0. 0. 0. 0. 1.]\n",
            " [1. 0. 0. 0. 0. 0. 0. 0. 0. 0. 0. 0.]\n",
            " [0. 0. 0. 0. 0. 0. 0. 0. 0. 0. 0. 1.]\n",
            " [0. 0. 0. 0. 0. 0. 1. 0. 0. 0. 0. 0.]\n",
            " [0. 1. 0. 0. 0. 0. 0. 0. 0. 0. 0. 0.]\n",
            " [0. 0. 0. 0. 0. 0. 1. 0. 0. 0. 0. 0.]\n",
            " [0. 0. 0. 0. 1. 0. 0. 0. 0. 0. 0. 0.]\n",
            " [0. 1. 0. 0. 0. 0. 0. 0. 0. 0. 0. 0.]\n",
            " [0. 0. 0. 0. 0. 1. 0. 0. 0. 0. 0. 0.]]\n"
          ]
        }
      ],
      "source": [
        "print(X)"
      ]
    },
    {
      "cell_type": "code",
      "execution_count": null,
      "metadata": {
        "colab": {
          "base_uri": "https://localhost:8080/"
        },
        "id": "CR-gBd9mC9JX",
        "outputId": "0066ff85-67bc-4b96-9406-0db8b4dfbfc2"
      },
      "outputs": [
        {
          "output_type": "stream",
          "name": "stdout",
          "text": [
            "[[0. 0. 0. 0. 1. 0. 0. 0. 0. 0. 0. 0.]\n",
            " [0. 0. 0. 1. 0. 0. 0. 0. 0. 0. 0. 0.]\n",
            " [0. 0. 0. 0. 0. 0. 1. 0. 0. 0. 0. 0.]\n",
            " [0. 0. 0. 1. 0. 0. 0. 0. 0. 0. 0. 0.]\n",
            " [0. 0. 0. 0. 0. 0. 1. 0. 0. 0. 0. 0.]\n",
            " [0. 0. 0. 0. 1. 0. 0. 0. 0. 0. 0. 0.]\n",
            " [0. 0. 0. 0. 0. 0. 0. 1. 0. 0. 0. 0.]\n",
            " [0. 0. 1. 0. 0. 0. 0. 0. 0. 0. 0. 0.]\n",
            " [0. 0. 0. 0. 0. 0. 1. 0. 0. 0. 0. 0.]\n",
            " [0. 0. 0. 0. 0. 0. 0. 0. 0. 1. 0. 0.]\n",
            " [0. 0. 0. 0. 1. 0. 0. 0. 0. 0. 0. 0.]\n",
            " [0. 0. 0. 0. 0. 1. 0. 0. 0. 0. 0. 0.]\n",
            " [0. 0. 0. 0. 0. 0. 0. 0. 1. 0. 0. 0.]\n",
            " [0. 0. 0. 0. 0. 0. 0. 0. 0. 0. 0. 1.]\n",
            " [0. 0. 0. 0. 0. 0. 0. 0. 1. 0. 0. 0.]\n",
            " [0. 0. 0. 0. 0. 0. 0. 1. 0. 0. 0. 0.]\n",
            " [0. 0. 0. 0. 0. 0. 0. 0. 0. 0. 1. 0.]\n",
            " [0. 0. 0. 0. 0. 0. 1. 0. 0. 0. 0. 0.]\n",
            " [0. 0. 0. 0. 0. 1. 0. 0. 0. 0. 0. 0.]\n",
            " [0. 0. 0. 0. 0. 0. 1. 0. 0. 0. 0. 0.]\n",
            " [0. 0. 0. 0. 0. 1. 0. 0. 0. 0. 0. 0.]\n",
            " [0. 0. 0. 0. 0. 0. 0. 0. 0. 0. 1. 0.]\n",
            " [1. 0. 0. 0. 0. 0. 0. 0. 0. 0. 0. 0.]\n",
            " [0. 0. 0. 0. 0. 0. 0. 1. 0. 0. 0. 0.]\n",
            " [0. 0. 0. 0. 0. 0. 0. 0. 0. 0. 0. 1.]\n",
            " [0. 0. 0. 0. 0. 0. 0. 1. 0. 0. 0. 0.]\n",
            " [0. 0. 0. 0. 0. 0. 0. 0. 0. 0. 0. 1.]\n",
            " [1. 0. 0. 0. 0. 0. 0. 0. 0. 0. 0. 0.]\n",
            " [0. 1. 0. 0. 0. 0. 0. 0. 0. 0. 0. 0.]\n",
            " [0. 0. 0. 0. 0. 0. 1. 0. 0. 0. 0. 0.]\n",
            " [0. 0. 0. 0. 1. 0. 0. 0. 0. 0. 0. 0.]\n",
            " [0. 0. 0. 0. 0. 0. 1. 0. 0. 0. 0. 0.]\n",
            " [0. 0. 0. 0. 0. 1. 0. 0. 0. 0. 0. 0.]\n",
            " [0. 1. 0. 0. 0. 0. 0. 0. 0. 0. 0. 0.]]\n"
          ]
        }
      ],
      "source": [
        "print(Y)"
      ]
    },
    {
      "cell_type": "markdown",
      "metadata": {
        "id": "t3rPwgN-3IRi"
      },
      "source": [
        "### Model"
      ]
    },
    {
      "cell_type": "code",
      "execution_count": null,
      "metadata": {
        "colab": {
          "base_uri": "https://localhost:8080/",
          "height": 208
        },
        "id": "7956uQoc2bNr",
        "outputId": "d21679ab-4838-45c2-ab23-f6aa86629bc6"
      },
      "outputs": [
        {
          "output_type": "display_data",
          "data": {
            "text/plain": [
              "\u001b[1mModel: \"sequential\"\u001b[0m\n"
            ],
            "text/html": [
              "<pre style=\"white-space:pre;overflow-x:auto;line-height:normal;font-family:Menlo,'DejaVu Sans Mono',consolas,'Courier New',monospace\"><span style=\"font-weight: bold\">Model: \"sequential\"</span>\n",
              "</pre>\n"
            ]
          },
          "metadata": {}
        },
        {
          "output_type": "display_data",
          "data": {
            "text/plain": [
              "┏━━━━━━━━━━━━━━━━━━━━━━━━━━━━━━━━━━━━━━┳━━━━━━━━━━━━━━━━━━━━━━━━━━━━━┳━━━━━━━━━━━━━━━━━┓\n",
              "┃\u001b[1m \u001b[0m\u001b[1mLayer (type)                        \u001b[0m\u001b[1m \u001b[0m┃\u001b[1m \u001b[0m\u001b[1mOutput Shape               \u001b[0m\u001b[1m \u001b[0m┃\u001b[1m \u001b[0m\u001b[1m        Param #\u001b[0m\u001b[1m \u001b[0m┃\n",
              "┡━━━━━━━━━━━━━━━━━━━━━━━━━━━━━━━━━━━━━━╇━━━━━━━━━━━━━━━━━━━━━━━━━━━━━╇━━━━━━━━━━━━━━━━━┩\n",
              "│ dense (\u001b[38;5;33mDense\u001b[0m)                        │ ?                           │     \u001b[38;5;34m0\u001b[0m (unbuilt) │\n",
              "├──────────────────────────────────────┼─────────────────────────────┼─────────────────┤\n",
              "│ dense_1 (\u001b[38;5;33mDense\u001b[0m)                      │ ?                           │     \u001b[38;5;34m0\u001b[0m (unbuilt) │\n",
              "└──────────────────────────────────────┴─────────────────────────────┴─────────────────┘\n"
            ],
            "text/html": [
              "<pre style=\"white-space:pre;overflow-x:auto;line-height:normal;font-family:Menlo,'DejaVu Sans Mono',consolas,'Courier New',monospace\">┏━━━━━━━━━━━━━━━━━━━━━━━━━━━━━━━━━━━━━━┳━━━━━━━━━━━━━━━━━━━━━━━━━━━━━┳━━━━━━━━━━━━━━━━━┓\n",
              "┃<span style=\"font-weight: bold\"> Layer (type)                         </span>┃<span style=\"font-weight: bold\"> Output Shape                </span>┃<span style=\"font-weight: bold\">         Param # </span>┃\n",
              "┡━━━━━━━━━━━━━━━━━━━━━━━━━━━━━━━━━━━━━━╇━━━━━━━━━━━━━━━━━━━━━━━━━━━━━╇━━━━━━━━━━━━━━━━━┩\n",
              "│ dense (<span style=\"color: #0087ff; text-decoration-color: #0087ff\">Dense</span>)                        │ ?                           │     <span style=\"color: #00af00; text-decoration-color: #00af00\">0</span> (unbuilt) │\n",
              "├──────────────────────────────────────┼─────────────────────────────┼─────────────────┤\n",
              "│ dense_1 (<span style=\"color: #0087ff; text-decoration-color: #0087ff\">Dense</span>)                      │ ?                           │     <span style=\"color: #00af00; text-decoration-color: #00af00\">0</span> (unbuilt) │\n",
              "└──────────────────────────────────────┴─────────────────────────────┴─────────────────┘\n",
              "</pre>\n"
            ]
          },
          "metadata": {}
        },
        {
          "output_type": "display_data",
          "data": {
            "text/plain": [
              "\u001b[1m Total params: \u001b[0m\u001b[38;5;34m0\u001b[0m (0.00 B)\n"
            ],
            "text/html": [
              "<pre style=\"white-space:pre;overflow-x:auto;line-height:normal;font-family:Menlo,'DejaVu Sans Mono',consolas,'Courier New',monospace\"><span style=\"font-weight: bold\"> Total params: </span><span style=\"color: #00af00; text-decoration-color: #00af00\">0</span> (0.00 B)\n",
              "</pre>\n"
            ]
          },
          "metadata": {}
        },
        {
          "output_type": "display_data",
          "data": {
            "text/plain": [
              "\u001b[1m Trainable params: \u001b[0m\u001b[38;5;34m0\u001b[0m (0.00 B)\n"
            ],
            "text/html": [
              "<pre style=\"white-space:pre;overflow-x:auto;line-height:normal;font-family:Menlo,'DejaVu Sans Mono',consolas,'Courier New',monospace\"><span style=\"font-weight: bold\"> Trainable params: </span><span style=\"color: #00af00; text-decoration-color: #00af00\">0</span> (0.00 B)\n",
              "</pre>\n"
            ]
          },
          "metadata": {}
        },
        {
          "output_type": "display_data",
          "data": {
            "text/plain": [
              "\u001b[1m Non-trainable params: \u001b[0m\u001b[38;5;34m0\u001b[0m (0.00 B)\n"
            ],
            "text/html": [
              "<pre style=\"white-space:pre;overflow-x:auto;line-height:normal;font-family:Menlo,'DejaVu Sans Mono',consolas,'Courier New',monospace\"><span style=\"font-weight: bold\"> Non-trainable params: </span><span style=\"color: #00af00; text-decoration-color: #00af00\">0</span> (0.00 B)\n",
              "</pre>\n"
            ]
          },
          "metadata": {}
        }
      ],
      "source": [
        "import tensorflow as tf\n",
        "\n",
        "embed_size = 2 # number of neurons in hidden layer which means size of word embedding vectors is also 2\n",
        "\n",
        "# model = tf.keras.models.Sequential([\n",
        "#     tf.keras.models.Dense(embed_size, activation='linear'),\n",
        "#     tf.keras.models.Dense(Y.shape[1], activation = 'softmax')\n",
        "# ])\n",
        "\n",
        "\n",
        "# Define a Sequential model\n",
        "model = tf.keras.models.Sequential()\n",
        "\n",
        "# Let's assume input data has 10 features\n",
        "# model.add(tf.keras.layers.Dense(64, activation='relu', input_shape=(10,)))\n",
        "'''\n",
        "- 64 represents the number of neurons (units) in this hidden layer.\n",
        "64 neurons in this layer. Each neuron is connected to all 10 features in the input data.\n",
        "\n",
        "- input_shape=(10,) means that the input data has 10 features,\n",
        "so each sample passed into the network is expected to be a vector of 10 values.\n",
        "The network expects each input sample to have 10 features. This is passed only in the first layer of a Sequential model.\n",
        "\n",
        "- activation='relu' applies the ReLU (Rectified Linear Unit) activation function to the outputs of the 64 neurons.\n",
        "'''\n",
        "\n",
        "\n",
        "# The 'embed_size' defines the dimensionality of the output space for the layer\n",
        "\n",
        "# Here, 'Y.shape[1]' refers to the number of output classes (assuming Y is a one-hot encoded output)\n",
        "# For example, if we have 3 output classes, this layer will have 3 neurons\n",
        "\n",
        "model.add(tf.keras.layers.Dense(embed_size, activation='linear')) # hidden layer\n",
        "model.add(tf.keras.layers.Dense(Y.shape[1], activation='softmax')) # output layer\n",
        "\n",
        "# 'categorical_crossentropy' is used for multi-class classification problems\n",
        "# 'adam' is a popular optimizer for deep learning models\n",
        "model.compile(loss = 'categorical_crossentropy', optimizer = 'adam')\n",
        "\n",
        "model.summary()  # This prints the model structure(optional)"
      ]
    },
    {
      "cell_type": "code",
      "execution_count": null,
      "metadata": {
        "colab": {
          "base_uri": "https://localhost:8080/"
        },
        "id": "q2EaMlYf2cuY",
        "outputId": "bb559d73-f752-4aa7-a709-3965a8d974ff"
      },
      "outputs": [
        {
          "output_type": "execute_result",
          "data": {
            "text/plain": [
              "<keras.src.callbacks.history.History at 0x7a5340dd94e0>"
            ]
          },
          "metadata": {},
          "execution_count": 12
        }
      ],
      "source": [
        "model.fit(X, Y, epochs = 1000, batch_size = 256, verbose = False)"
      ]
    },
    {
      "cell_type": "code",
      "execution_count": null,
      "metadata": {
        "id": "nc7DHdm12etO"
      },
      "outputs": [],
      "source": [
        "weights = model.get_weights()[0]\n",
        "# The weights i am retrieving using model.get_weights()[0] refer to the weights of the first hidden layer, not the input layer.\n",
        "# weights refers to the weight matrix associated with the first hidden layer.\n",
        "'''\n",
        "weights[0] is a 2D array (matrix) with dimensions (a, b), where a is the number of input features and b is the number of neurons in the first hidden layer.\n",
        "weights[1] is a 1D array with length b, which contains the biases for the first hidden layer.\n",
        "'''\n",
        "\n",
        "word_embeddings = {}\n",
        "for word in all_words:\n",
        "    word_embeddings[word] = weights[words_dict[word]]"
      ]
    },
    {
      "cell_type": "markdown",
      "source": [
        "**Code Breakdown**\n",
        "1. weights = model.get_weights()[0]\n",
        "\n",
        "- This line retrieves the weights from the first layer of the neural network model.\n",
        "- In a typical word embedding model, the first layer's weights represent the embeddings for each word in your vocabulary.\n",
        "- The [0] is used to get the first element of the weights list, which corresponds to the weight matrix of the first layer.\n",
        "\n",
        "2. word_embeddings = {}\n",
        "\n",
        "- This line initializes an empty dictionary called word_embeddings.\n",
        "- This dictionary will be used to store the word embeddings (numerical representations) for each word.\n",
        "\n",
        "3. for word in all_words:\n",
        "\n",
        "- This loop iterates over each word in the list all_words, which presumably contains all the words from your vocabulary.\n",
        "\n",
        "4. word_embeddings[word] = weights[words_dict[word]]\n",
        "\n",
        "- For each word, it retrieves its corresponding embedding from the weights matrix using words_dict[word] as the index.\n",
        "- Here, words_dict is likely a dictionary that maps each word to its index in the weights matrix.\n",
        "- The embedding for each word is then stored in the word_embeddings dictionary, where the key is the word and the value is its corresponding vector (the embedding).\n",
        "\n",
        "Summary\n",
        "- This code extracts the word embeddings from the model’s weights and organizes them into a dictionary (word_embeddings), where each word is associated with its numerical representation. This allows you to easily look up the embedding for any word in your vocabulary."
      ],
      "metadata": {
        "id": "R1W_XwEpQyJa"
      }
    },
    {
      "cell_type": "code",
      "source": [
        "for word in all_words:\n",
        "  print(word,\":\",word_embeddings[word])"
      ],
      "metadata": {
        "colab": {
          "base_uri": "https://localhost:8080/"
        },
        "id": "1JLj_P00P-9z",
        "outputId": "b5aa15fc-66e5-441b-9720-c11ff47527f6"
      },
      "execution_count": null,
      "outputs": [
        {
          "output_type": "stream",
          "name": "stdout",
          "text": [
            "beautiful : [1.2051277 0.5060915]\n",
            "boy : [ 0.27411655 -1.6090009 ]\n",
            "daughter : [0.9865224  0.60021055]\n",
            "future : [-0.44248456 -0.47768676]\n",
            "king : [-0.14008856 -1.1660178 ]\n",
            "man : [-1.4641078 -0.1696603]\n",
            "prince : [-1.1447244   0.13550328]\n",
            "princess : [0.7141948 1.147843 ]\n",
            "queen : [0.548962  0.3461353]\n",
            "son : [ 0.12691432 -0.6707844 ]\n",
            "strong : [ 0.11894244 -0.79541   ]\n",
            "woman : [1.3101785 1.0190849]\n"
          ]
        }
      ]
    },
    {
      "cell_type": "code",
      "execution_count": null,
      "metadata": {
        "colab": {
          "base_uri": "https://localhost:8080/",
          "height": 430
        },
        "id": "YZsSvTCz2gt0",
        "outputId": "db26c5ca-fae3-47f9-efaf-853059d2bd21"
      },
      "outputs": [
        {
          "output_type": "display_data",
          "data": {
            "text/plain": [
              "<Figure size 640x480 with 1 Axes>"
            ],
            "image/png": "[encoded data removed]"
          },
          "metadata": {}
        }
      ],
      "source": [
        "import matplotlib.pyplot as plt\n",
        "\n",
        "# plt.figure(figsize = (10, 10))\n",
        "for word in list(words_dict.keys()):\n",
        "    coord = word_embeddings.get(word)\n",
        "    plt.scatter(coord[0], coord[1])\n",
        "    plt.annotate(word, (coord[0], coord[1]))\n",
        "\n",
        "plt.savefig('img.jpg')"
      ]
    },
    {
      "cell_type": "markdown",
      "source": [
        "**Code Breakdown**\n",
        "1. import matplotlib.pyplot as plt\n",
        "\n",
        "- This line imports the matplotlib.pyplot module, which is a popular library in Python for creating static, animated, and interactive visualizations in Python.\n",
        "2. # plt.figure(figsize = (10, 10))\n",
        "\n",
        "- This line is commented out, but if it were active, it would create a new figure for the plot with a size of 10x10 inches. This helps in controlling the size of the plot.\n",
        "\n",
        "3. for word in list(words_dict.keys()):\n",
        "\n",
        "- This line starts a loop that iterates over each word in words_dict. words_dict.keys() returns the keys (words) in the dictionary, and list() converts them into a list.\n",
        "\n",
        "4. coord = word_embeddings.get(word)\n",
        "\n",
        "- For each word in the loop, this line retrieves its corresponding embedding coordinates (a 2D vector) from the word_embeddings dictionary.\n",
        "- coord will hold the numerical representation of the word in a 2D space.\n",
        "\n",
        "5. plt.scatter(coord[0], coord[1])\n",
        "\n",
        "- This line plots a point in a 2D scatter plot using the x-coordinate coord[0] and the y-coordinate coord[1]. Each point represents a word's embedding.\n",
        "\n",
        "6. plt.annotate(word, (coord[0], coord[1]))\n",
        "\n",
        "- This line adds a label (the word itself) next to its corresponding point on the scatter plot at the position (coord[0], coord[1]). This makes it easier to identify which point corresponds to which word.\n",
        "\n",
        "7. plt.savefig('img.jpg')\n",
        "\n",
        "- Finally, this line saves the created scatter plot as an image file named img.jpg in the current working directory.\n",
        "\n",
        "Summary\n",
        "- This code creates a scatter plot of word embeddings, where each point represents a word in a 2D space. The words are labeled on the plot for easy identification. After plotting, the figure is saved as img.jpg. This visualization helps in understanding the relationships between words based on their embeddings."
      ],
      "metadata": {
        "id": "JG-4Pjq7RYiV"
      }
    },
    {
      "cell_type": "code",
      "source": [
        "import matplotlib.pyplot as plt\n",
        "for word in all_words:\n",
        "  coord = word_embeddings[word]\n",
        "  plt.scatter(coord[0], coord[1])\n",
        "  plt.annotate(word, (coord[0], coord[1]))"
      ],
      "metadata": {
        "colab": {
          "base_uri": "https://localhost:8080/",
          "height": 430
        },
        "id": "E0mMLeN2SBpA",
        "outputId": "5b28829c-90b5-402c-d895-b20113dce5b8"
      },
      "execution_count": null,
      "outputs": [
        {
          "output_type": "display_data",
          "data": {
            "text/plain": [
              "<Figure size 640x480 with 1 Axes>"
            ],
            "image/png": "[encoded data removed]"
          },
          "metadata": {}
        }
      ]
    },
    {
      "cell_type": "markdown",
      "metadata": {
        "id": "WbbN_aFyJTYT"
      },
      "source": [
        "**Epochs**\n",
        "Definition: An epoch is one complete pass through the entire training dataset during the training of a neural network.\n",
        "\n",
        "Purpose: Specifying the number of epochs determines how many times the model will learn from the entire dataset. More epochs can lead to better learning, but too many can cause overfitting, where the model performs well on the training data but poorly on unseen data.\n",
        "\n",
        "\n",
        "**Batch Size**\n",
        "\n",
        "Definition: Batch size is the number of training samples used in one iteration of the model's training. Instead of processing the entire dataset at once, the model processes smaller subsets (batches).\n",
        "\n",
        "Purpose: Specifying the batch size allows for more efficient memory usage and faster computation. Smaller batches can lead to more updates per epoch, potentially improving learning, while larger batches may provide more stable gradient estimates but require more memory.\n",
        "\n",
        "\n",
        "**Verbose**\n",
        "\n",
        "Definition: The verbose parameter controls the level of output displayed during training.\n",
        "Values:\n",
        "0: No output.\n",
        "1: Progress bar (default behavior, shows training progress).\n",
        "2: One line per epoch (less detailed than verbose=1).\n",
        "\n",
        "Purpose: It helps users monitor the training process, providing insights into the training progress and loss metrics at different epochs.\n",
        "Example Usage\n",
        "Here’s how you might see these parameters used in a model training call:\n",
        "\n",
        "```\n",
        "model.fit(X_train, y_train, epochs=10, batch_size=32, verbose=1)\n",
        "```\n",
        "In this example:\n",
        "\n",
        "The model will train for 10 epochs.\n",
        "Each training iteration will use a batch size of 32 samples.\n",
        "The training progress will be shown with a progress bar (due to verbose=1)."
      ]
    },
    {
      "cell_type": "markdown",
      "metadata": {
        "id": "XMjNcznVJa4i"
      },
      "source": [
        "\n",
        "Let’s break this down into simple terms.\n",
        "\n",
        "**Epoch**: An epoch is one complete pass through the entire dataset. If you have 320 rows of data, one epoch means the model has seen all 320 rows once.\n",
        "\n",
        "**Batch Size**: This refers to the number of rows processed at one time. In this case, your batch size is 32, which means the model will look at 32 rows before updating its internal parameters.\n",
        "\n",
        "**Interpretation:**\n",
        "\n",
        "1. Total Data: You have 320 rows of data in your dataset.\n",
        "\n",
        "2. Batch Size of 32:\n",
        "\n",
        "- Since your batch size is 32, the model will process the data in chunks (batches) of 32 rows.\n",
        "- To process all 320 rows, the model will need to go through 320/32\n",
        "= 10 batches in one epoch. This means it will perform 10 updates to its parameters during each epoch, once for each batch of 32 rows.\n",
        "\n",
        "3. Epoch of 1000:\n",
        "\n",
        "- Now, if you set the number of epochs to 1000, it means the model will go through the entire dataset 1000 times.\n",
        "- In practical terms, after 1000 epochs, the model will have seen all 320 rows a total of 1000×320=320,000 times.\n",
        "\n",
        "**Summary:**\n",
        "1. In your training setup:\n",
        "- The model will look at the data in chunks of 32 rows (batch size).\n",
        "- It will go through the entire dataset 1000 times (epochs).\n",
        "- For each epoch, the model makes 10 updates based on the batches it processes.\n",
        "\n",
        "2. This approach allows the model to learn from the data gradually, refining its understanding with each batch and each epoch.\n",
        "\n",
        "**Visual Analogy:**\n",
        "You can think of this as reading a book:\n",
        "\n",
        "- Batch Size (32): Each time you read 32 pages at a time.\n",
        "- Epochs (1000): After finishing the book (all 320 pages), you decide to read it again from the beginning 999 more times.\n",
        "\n",
        "So, after 1000 readings, you’ve gone over all the pages a lot, helping you remember the content better!"
      ]
    }
  ],
  "metadata": {
    "colab": {
      "provenance": [],
      "authorship_tag": "ABX9TyP02SiGZvij5BlK8u2z60kc",
      "include_colab_link": true
    },
    "kernelspec": {
      "display_name": "Python 3",
      "name": "python3"
    },
    "language_info": {
      "name": "python"
    }
  },
  "nbformat": 4,
  "nbformat_minor": 0
}